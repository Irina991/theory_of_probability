{
 "cells": [
  {
   "cell_type": "code",
   "execution_count": 1,
   "metadata": {},
   "outputs": [],
   "source": [
    "from math import factorial\n",
    "def combinations(n, k):\n",
    "    return int(factorial(n) / (factorial(k) * factorial(n - k)))"
   ]
  },
  {
   "cell_type": "markdown",
   "metadata": {},
   "source": [
    "### №1"
   ]
  },
  {
   "cell_type": "markdown",
   "metadata": {},
   "source": [
    "Вероятность того, что стрелок попадет в мишень, выстрелив один раз, равна 0.8. Стрелок выстрелил 100 раз. \n",
    "Найдите вероятность того, что стрелок попадет в цель ровно 85 раз."
   ]
  },
  {
   "cell_type": "code",
   "execution_count": 2,
   "metadata": {},
   "outputs": [
    {
     "data": {
      "text/plain": [
       "253338471349988640"
      ]
     },
     "execution_count": 2,
     "metadata": {},
     "output_type": "execute_result"
    }
   ],
   "source": [
    "a = combinations(100, 85)\n",
    "a"
   ]
  },
  {
   "cell_type": "markdown",
   "metadata": {},
   "source": [
    "Решаем по формуле Бернулли"
   ]
  },
  {
   "cell_type": "code",
   "execution_count": 3,
   "metadata": {},
   "outputs": [
    {
     "data": {
      "text/plain": [
       "0.048061793700746355"
      ]
     },
     "execution_count": 3,
     "metadata": {},
     "output_type": "execute_result"
    }
   ],
   "source": [
    "p = 0.8\n",
    "q = (1-p)\n",
    "P = a*p**85*q**(100-85)\n",
    "P"
   ]
  },
  {
   "cell_type": "markdown",
   "metadata": {},
   "source": [
    "### №2"
   ]
  },
  {
   "cell_type": "markdown",
   "metadata": {},
   "source": [
    "Вероятность того, что лампочка перегорит в течение первого дня эксплуатации, равна 0.0004. \n",
    "В жилом комплексе после ремонта в один день включили 5000 новых лампочек. \n",
    "Какова вероятность, что ни одна из них не перегорит в первый день? \n",
    "Какова вероятность, что перегорят ровно две?"
   ]
  },
  {
   "cell_type": "markdown",
   "metadata": {},
   "source": [
    "Решаем через распределение Пуассона"
   ]
  },
  {
   "cell_type": "code",
   "execution_count": 4,
   "metadata": {},
   "outputs": [
    {
     "data": {
      "text/plain": [
       "0.13516435986159167"
      ]
     },
     "execution_count": 4,
     "metadata": {},
     "output_type": "execute_result"
    }
   ],
   "source": [
    "n = 5000\n",
    "p = 0.0004\n",
    "m = 0  ### не перегорит ни одна лампочка в первый день\n",
    "e = 2.72\n",
    "λ = n*p\n",
    "P = ((λ**m)/factorial (m))*e**(-λ)\n",
    "P"
   ]
  },
  {
   "cell_type": "code",
   "execution_count": 5,
   "metadata": {},
   "outputs": [
    {
     "data": {
      "text/plain": [
       "0.27032871972318334"
      ]
     },
     "execution_count": 5,
     "metadata": {},
     "output_type": "execute_result"
    }
   ],
   "source": [
    "n = 5000\n",
    "p = 0.0004\n",
    "m = 2  ### перегорят ровно 2 лампочки \n",
    "e = 2.72\n",
    "λ = n*p\n",
    "P = ((λ**m)/factorial (m))*e**(-λ)\n",
    "P"
   ]
  },
  {
   "cell_type": "markdown",
   "metadata": {},
   "source": [
    "### №3"
   ]
  },
  {
   "cell_type": "markdown",
   "metadata": {},
   "source": [
    "Монету подбросили 144 раза. Какова вероятность, что орел выпадет ровно 70 раз?"
   ]
  },
  {
   "cell_type": "markdown",
   "metadata": {},
   "source": [
    "Броски монет - события независимые, вероятность выпадения орла в каждом броске одинаковая, примим ее за p = 0.5\n",
    "Решаем по формуле Бернулли"
   ]
  },
  {
   "cell_type": "code",
   "execution_count": 6,
   "metadata": {},
   "outputs": [
    {
     "data": {
      "text/plain": [
       "0.06281178035144776"
      ]
     },
     "execution_count": 6,
     "metadata": {},
     "output_type": "execute_result"
    }
   ],
   "source": [
    "a = combinations(144, 70)\n",
    "p = 0.5\n",
    "q = (1-p)\n",
    "P = a*p**70*q**(144-70)\n",
    "P"
   ]
  },
  {
   "cell_type": "markdown",
   "metadata": {},
   "source": [
    "### №4"
   ]
  },
  {
   "cell_type": "markdown",
   "metadata": {},
   "source": [
    "В первом ящике находится 10 мячей, из которых 7 - белые. Во втором ящике - 11 мячей, из которых 9 белых. \n",
    "Из каждого ящика вытаскивают случайным образом по два мяча. Какова вероятность того, что все мячи белые? \n",
    "Какова вероятность того, что ровно два мяча белые? Какова вероятность того, что хотя бы один мяч белый?"
   ]
  },
  {
   "cell_type": "code",
   "execution_count": 16,
   "metadata": {},
   "outputs": [
    {
     "data": {
      "text/plain": [
       "0.48999999999999994"
      ]
     },
     "execution_count": 16,
     "metadata": {},
     "output_type": "execute_result"
    }
   ],
   "source": [
    "###Просчитаем сначала вероятность, что все мячи белые\n",
    "###Для этого просчитаем вероятность вытаскивания по 2 белых мяча из каждой корзины\n",
    "\n",
    "### 1 корзина\n",
    "a1 = combinations(2, 2)\n",
    "p1 = 7/10\n",
    "q1 = (1-p1)\n",
    "P1 = a1*p1**2*q1**(2-2)\n",
    "P1"
   ]
  },
  {
   "cell_type": "code",
   "execution_count": 17,
   "metadata": {},
   "outputs": [
    {
     "data": {
      "text/plain": [
       "0.6694214876033059"
      ]
     },
     "execution_count": 17,
     "metadata": {},
     "output_type": "execute_result"
    }
   ],
   "source": [
    "### 2 корзина\n",
    "a2 = combinations(2, 2)\n",
    "p2 = 9/11\n",
    "q2 = (1-p2)\n",
    "P2 = a2*p2**2*q2**(2-2)\n",
    "P2"
   ]
  },
  {
   "cell_type": "code",
   "execution_count": 19,
   "metadata": {},
   "outputs": [
    {
     "data": {
      "text/plain": [
       "0.32801652892561983"
      ]
     },
     "execution_count": 19,
     "metadata": {},
     "output_type": "execute_result"
    }
   ],
   "source": [
    "P_total = P1*P2  ### общая вероятность из двух корзин все мячи белые\n",
    "P_total"
   ]
  },
  {
   "cell_type": "markdown",
   "metadata": {},
   "source": [
    "#### Какова вероятность того, что ровно два мяча белые?"
   ]
  },
  {
   "cell_type": "markdown",
   "metadata": {},
   "source": [
    "В этом случае у нас есть 3 варианта\n",
    "1. в 1ой корзине 2 мяча белых, во 2ой корзине нет таких мячей\n",
    "2. во 2ой корзине 2 мяча белых, в 1ой корзине нет таких мячей\n",
    "3. в каждой корзине по одному белому мячу\n",
    "\n",
    "Рассмотрим первые 2 варианта. Мы уже нашли по отдельности для каждой корзины вероятность вытаскивания 2 белых мячей.\n",
    "(P1 = 0,4899, P2 = 0,3280). Найдем также вероятность не вытащить ни одного белого мяча из каждой корзины за эти 2 раза"
   ]
  },
  {
   "cell_type": "code",
   "execution_count": 32,
   "metadata": {},
   "outputs": [
    {
     "data": {
      "text/plain": [
       "0.09"
      ]
     },
     "execution_count": 32,
     "metadata": {},
     "output_type": "execute_result"
    }
   ],
   "source": [
    "### 1 корзина\n",
    "a_bez_1 = combinations(2, 2)\n",
    "p_bez_1 = 3/10\n",
    "q_bez_1 = (1-p_bez_1)\n",
    "P_bez_1 = a_bez_1*p_bez_1**2*q_bez_1**(2-2)\n",
    "P_bez_1"
   ]
  },
  {
   "cell_type": "code",
   "execution_count": 33,
   "metadata": {},
   "outputs": [
    {
     "data": {
      "text/plain": [
       "0.03305785123966942"
      ]
     },
     "execution_count": 33,
     "metadata": {},
     "output_type": "execute_result"
    }
   ],
   "source": [
    "### 2 корзина\n",
    "a_bez_2 = combinations(2, 2)\n",
    "p_bez_2 = 2/11\n",
    "q_bez_2 = (1-p_bez_2)\n",
    "P_bez_2 = a_bez_2*p_bez_2**2*q_bez_2**(2-2)\n",
    "P_bez_2"
   ]
  },
  {
   "cell_type": "code",
   "execution_count": 34,
   "metadata": {},
   "outputs": [
    {
     "data": {
      "text/plain": [
       "0.016198347107438015"
      ]
     },
     "execution_count": 34,
     "metadata": {},
     "output_type": "execute_result"
    }
   ],
   "source": [
    "C1 = P1*P_bez_2 ### находим вероятность, когда в 1ой корзине 2 белых мяча, а во 2ой ни одного\n",
    "C1"
   ]
  },
  {
   "cell_type": "code",
   "execution_count": 35,
   "metadata": {},
   "outputs": [
    {
     "data": {
      "text/plain": [
       "0.06024793388429753"
      ]
     },
     "execution_count": 35,
     "metadata": {},
     "output_type": "execute_result"
    }
   ],
   "source": [
    "C2 = P2*P_bez_1 ### находим вероятность, когда в 2ой корзине 2 белых мяча, а во 1ой ни одного\n",
    "C2"
   ]
  },
  {
   "cell_type": "markdown",
   "metadata": {},
   "source": [
    "Рассмотрим 3 вариант, когда мы вытащили по одному белому мячу из каждой корзины"
   ]
  },
  {
   "cell_type": "code",
   "execution_count": 36,
   "metadata": {},
   "outputs": [
    {
     "data": {
      "text/plain": [
       "0.42000000000000004"
      ]
     },
     "execution_count": 36,
     "metadata": {},
     "output_type": "execute_result"
    }
   ],
   "source": [
    "### 1 корзина\n",
    "a_one = combinations(2, 1)\n",
    "p_one = 7/10\n",
    "q_one = (1-p_one)\n",
    "P_one = a_one*p_one**1*q_one**(2-1)\n",
    "P_one"
   ]
  },
  {
   "cell_type": "code",
   "execution_count": 37,
   "metadata": {},
   "outputs": [
    {
     "data": {
      "text/plain": [
       "0.29752066115702475"
      ]
     },
     "execution_count": 37,
     "metadata": {},
     "output_type": "execute_result"
    }
   ],
   "source": [
    "### 2 корзина\n",
    "a_one2 = combinations(2, 1)\n",
    "p_one2 = 9/11\n",
    "q_one2 = (1-p_one2)\n",
    "P_one2 = a_one2*p_one2**1*q_one2**(2-1)\n",
    "P_one2"
   ]
  },
  {
   "cell_type": "code",
   "execution_count": 38,
   "metadata": {},
   "outputs": [
    {
     "data": {
      "text/plain": [
       "0.12495867768595041"
      ]
     },
     "execution_count": 38,
     "metadata": {},
     "output_type": "execute_result"
    }
   ],
   "source": [
    "C3 =P_one*P_one2 ### вероятность того, что из каждой корзины вытащили по одному белому мячу\n",
    "C3"
   ]
  },
  {
   "cell_type": "code",
   "execution_count": 39,
   "metadata": {},
   "outputs": [
    {
     "data": {
      "text/plain": [
       "0.20140495867768596"
      ]
     },
     "execution_count": 39,
     "metadata": {},
     "output_type": "execute_result"
    }
   ],
   "source": [
    "### Находим общую вероятность вытащить ровно 2 белых мяча\n",
    "\n",
    "P_total2 = C1+C2+C3\n",
    "P_total2"
   ]
  },
  {
   "cell_type": "markdown",
   "metadata": {},
   "source": [
    "#### Какова вероятность того, что хотя бы один мяч белый?"
   ]
  },
  {
   "cell_type": "markdown",
   "metadata": {},
   "source": [
    "В предыдем решении мы нашли вероятность того, что в 1 или 2 корзине не будет белых мячей\n",
    "P_bez_1 = 0.09, P_bez_2 = 0.33\n",
    "Теперь находим вероятность того, что будет только один белый мяч"
   ]
  },
  {
   "cell_type": "code",
   "execution_count": 40,
   "metadata": {},
   "outputs": [
    {
     "data": {
      "text/plain": [
       "0.9970247933884298"
      ]
     },
     "execution_count": 40,
     "metadata": {},
     "output_type": "execute_result"
    }
   ],
   "source": [
    "P_total3 = 1-P_bez_1*P_bez_2\n",
    "P_total3"
   ]
  },
  {
   "cell_type": "code",
   "execution_count": null,
   "metadata": {},
   "outputs": [],
   "source": []
  }
 ],
 "metadata": {
  "kernelspec": {
   "display_name": "Python 3",
   "language": "python",
   "name": "python3"
  },
  "language_info": {
   "codemirror_mode": {
    "name": "ipython",
    "version": 3
   },
   "file_extension": ".py",
   "mimetype": "text/x-python",
   "name": "python",
   "nbconvert_exporter": "python",
   "pygments_lexer": "ipython3",
   "version": "3.7.3"
  }
 },
 "nbformat": 4,
 "nbformat_minor": 2
}
